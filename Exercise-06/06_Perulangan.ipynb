{
 "cells": [
  {
   "cell_type": "markdown",
   "metadata": {},
   "source": [
    "***\n",
    "<h1 align=\"center\">Exercise 06</h1>\n",
    " \n",
    "***\n",
    "## While Loop\n",
    "## Exercise 6.1\n",
    "isilah bagian rumpang berikut. xx diganti tanggal lahir dan yy diganti menjadi bulan lahir. tandanya menyesuaikan yang lebih besar."
   ]
  },
  {
   "cell_type": "code",
   "execution_count": 3,
   "metadata": {},
   "outputs": [
    {
     "name": "stdout",
     "output_type": "stream",
     "text": [
      "Dibalik kesusahan ada kemudahan\n",
      "Dibalik kesusahan ada kemudahan\n",
      "Dibalik kesusahan ada kemudahan\n",
      "Dibalik kesusahan ada kemudahan\n",
      "Dibalik kesusahan ada kemudahan\n",
      "Dibalik kesusahan ada kemudahan\n",
      "Dibalik kesusahan ada kemudahan\n",
      "Dibalik kesusahan ada kemudahan\n",
      "Dibalik kesusahan ada kemudahan\n",
      "Dibalik kesusahan ada kemudahan\n",
      "Dibalik kesusahan ada kemudahan\n",
      "Dibalik kesusahan ada kemudahan\n",
      "Dibalik kesusahan ada kemudahan\n",
      "Dibalik kesusahan ada kemudahan\n",
      "Dibalik kesusahan ada kemudahan\n",
      "Dibalik kesusahan ada kemudahan\n",
      "Dibalik kesusahan ada kemudahan\n",
      "Dibalik kesusahan ada kemudahan\n",
      "Dibalik kesusahan ada kemudahan\n",
      "Dibalik kesusahan ada kemudahan\n",
      "Dibalik kesusahan ada kemudahan\n"
     ]
    }
   ],
   "source": [
    "#menentukan banyak pengulangan\n",
    "n = 28\n",
    "\n",
    "#melakukan pengulangan\n",
    "i = 8\n",
    "\n",
    "while i <= n :\n",
    "    print (\"Dibalik kesusahan ada kemudahan\")\n",
    "    #diisi motto kalian\n",
    "    i = i + 1 # sesuaikan dengan atas agar fungsi perulangan dapat berhenti\n"
   ]
  },
  {
   "cell_type": "markdown",
   "metadata": {},
   "source": [
    "## Exercise 6.2\n",
    "\n",
    "Buatlah code seperti yang dicontohkan pada modul agar user dapat menginputkan sendiri jumlah n yang diinginkan"
   ]
  },
  {
   "cell_type": "code",
   "execution_count": 6,
   "metadata": {},
   "outputs": [
    {
     "name": "stdout",
     "output_type": "stream",
     "text": [
      "8\n",
      "9\n",
      "10\n",
      "11\n",
      "12\n",
      "13\n",
      "14\n",
      "15\n",
      "16\n",
      "17\n",
      "18\n",
      "19\n",
      "20\n",
      "21\n",
      "22\n",
      "23\n",
      "24\n",
      "25\n",
      "26\n",
      "27\n",
      "28\n"
     ]
    }
   ],
   "source": [
    "#Kerjakan disini\n",
    "n = int(input(\"Masukkan nilai n : \"))\n",
    "i = 8\n",
    "\n",
    "while i <= n:\n",
    "    print(i)\n",
    "    i = i + 1"
   ]
  },
  {
   "cell_type": "markdown",
   "metadata": {},
   "source": [
    "## Excercise 6.3\n",
    "\n",
    "isilah xx, yy, dan tanda rumpang seperti pada exercise 6.1\n"
   ]
  },
  {
   "cell_type": "code",
   "execution_count": 19,
   "metadata": {},
   "outputs": [
    {
     "name": "stdout",
     "output_type": "stream",
     "text": [
      "Baris ke-8 : Dr Strange\n",
      "Baris ke-9 : Dr Strange\n",
      "Baris ke-10 : Dr Strange\n",
      "Baris ke-11 : Dr Strange\n",
      "Baris ke-12 : Dr Strange\n",
      "Baris ke-13 : Dr Strange\n",
      "Baris ke-14 : Dr Strange\n",
      "Baris ke-15 : Dr Strange\n",
      "Baris ke-16 : Dr Strange\n",
      "Baris ke-17 : Dr Strange\n",
      "Baris ke-18 : Dr Strange\n",
      "Baris ke-19 : Dr Strange\n",
      "Baris ke-20 : Dr Strange\n",
      "Baris ke-21 : Dr Strange\n",
      "Baris ke-22 : Dr Strange\n",
      "Baris ke-23 : Dr Strange\n",
      "Baris ke-24 : Dr Strange\n",
      "Baris ke-25 : Dr Strange\n",
      "Baris ke-26 : Dr Strange\n",
      "Baris ke-27 : Dr Strange\n",
      "Baris ke-28 : Dr Strange\n"
     ]
    }
   ],
   "source": [
    "#melakukan pengulangan\n",
    "i = 8\n",
    "\n",
    "while i <= 28 :\n",
    "    print (\"Baris ke-%d : Dr Strange\"%i)\n",
    "    #isi titik-titik dengan judul film favorit kalian\n",
    "    i = i + 1 "
   ]
  },
  {
   "cell_type": "markdown",
   "metadata": {},
   "source": [
    "## FOR LOOP\n",
    "\n",
    "## Exercise 6.4\n",
    "\n",
    "munculkan 3 dari 7 elemen yang berada di dalam list1 dan list2\n"
   ]
  },
  {
   "cell_type": "code",
   "execution_count": 20,
   "metadata": {},
   "outputs": [
    {
     "name": "stdout",
     "output_type": "stream",
     "text": [
      "1 Nasi Kebuli Kudus\n",
      "2 Nasi Goreng Bule Semarang\n",
      "3 Bubur Ayam Surakarta\n"
     ]
    }
   ],
   "source": [
    "list1 = ['Nasi Kebuli','Nasi Goreng Bule','Bubur Ayam','Magelangan Rendang','Nasi Padang','Pecel Lele','Mie Ayam'] #masukkan 7 list makanan favorit kalian\n",
    "list2 = ['Kudus','Semarang','Surakarta','Jepara','Surakarta','Boyolali','Surabaya'] #masukkan 7 list kota favorit kalian\n",
    "\n",
    "for i in range(0,3) :\n",
    "    print(i+1, list1[i],list2[i])"
   ]
  },
  {
   "cell_type": "markdown",
   "metadata": {},
   "source": [
    "## Perulangan Bersarang\n",
    "\n",
    "## Exercise 6.5"
   ]
  },
  {
   "cell_type": "code",
   "execution_count": 27,
   "metadata": {},
   "outputs": [
    {
     "name": "stdout",
     "output_type": "stream",
     "text": [
      "64 \n",
      "72 81 \n",
      "80 90 100 \n",
      "88 99 110 121 \n",
      "96 108 120 132 144 \n",
      "104 117 130 143 156 169 \n",
      "112 126 140 154 168 182 196 \n",
      "120 135 150 165 180 195 210 225 \n",
      "128 144 160 176 192 208 224 240 256 \n",
      "136 153 170 187 204 221 238 255 272 289 \n",
      "144 162 180 198 216 234 252 270 288 306 324 \n",
      "152 171 190 209 228 247 266 285 304 323 342 361 \n",
      "160 180 200 220 240 260 280 300 320 340 360 380 400 \n",
      "168 189 210 231 252 273 294 315 336 357 378 399 420 441 \n",
      "176 198 220 242 264 286 308 330 352 374 396 418 440 462 484 \n",
      "184 207 230 253 276 299 322 345 368 391 414 437 460 483 506 529 \n",
      "192 216 240 264 288 312 336 360 384 408 432 456 480 504 528 552 576 \n",
      "200 225 250 275 300 325 350 375 400 425 450 475 500 525 550 575 600 625 \n",
      "208 234 260 286 312 338 364 390 416 442 468 494 520 546 572 598 624 650 676 \n",
      "216 243 270 297 324 351 378 405 432 459 486 513 540 567 594 621 648 675 702 729 \n",
      "224 252 280 308 336 364 392 420 448 476 504 532 560 588 616 644 672 700 728 756 784 \n"
     ]
    }
   ],
   "source": [
    "i = 8\n",
    "while i <= 28:\n",
    "    j = 8\n",
    "    while j<=i:\n",
    "        print(\"%d \" % (i*j), end = '')\n",
    "        j = j + 1\n",
    "    print()\n",
    "    i+=1"
   ]
  },
  {
   "cell_type": "markdown",
   "metadata": {},
   "source": [
    "## Pernyataan Loncat\n",
    "\n",
    "## Exercise 6.\n",
    "\n",
    "Buatlah fungsi berikut agar muncul angka hingga berhenti sesuai dengan nilai qq\n",
    "qq = angka favorit kalian\n",
    "pp>qq"
   ]
  },
  {
   "cell_type": "code",
   "execution_count": 29,
   "metadata": {},
   "outputs": [
    {
     "name": "stdout",
     "output_type": "stream",
     "text": [
      "0123456789101112131415161718192021222324252627282930313233343536373839404142434445464748495051525354555657585960616263646566"
     ]
    }
   ],
   "source": [
    "for i in range(100):\n",
    "    print(i,end='')\n",
    "    if i == 66:\n",
    "        break"
   ]
  },
  {
   "cell_type": "markdown",
   "metadata": {},
   "source": [
    "***\n",
    "<h1 align=\"center\">WELL DONE</h1>\n",
    " \n",
    "***"
   ]
  }
 ],
 "metadata": {
  "interpreter": {
   "hash": "cd08f94adcf3cbae37fe85286256f4c2a10455ca9094fd053e9f3d3f09647223"
  },
  "kernelspec": {
   "display_name": "Python 3.9.7 64-bit",
   "language": "python",
   "name": "python3"
  },
  "language_info": {
   "codemirror_mode": {
    "name": "ipython",
    "version": 3
   },
   "file_extension": ".py",
   "mimetype": "text/x-python",
   "name": "python",
   "nbconvert_exporter": "python",
   "pygments_lexer": "ipython3",
   "version": "3.9.7"
  },
  "orig_nbformat": 4
 },
 "nbformat": 4,
 "nbformat_minor": 2
}
