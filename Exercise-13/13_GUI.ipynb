{
 "cells": [
  {
   "cell_type": "markdown",
   "metadata": {},
   "source": [
    "***\n",
    "<h1 align=\"center\">Exercise 13</h1> \n",
    "\n",
    "***\n",
    "## GUI (*Graphical User Interface*)\n",
    "\n",
    "### 1. Pemrograman GUI dengan Tkinter\n",
    "Buatlah kode seperti contoh berikut pada cell di bawah \n",
    "\n",
    "![](./images/13_Tkinter.png)"
   ]
  },
  {
   "cell_type": "code",
   "execution_count": 3,
   "metadata": {},
   "outputs": [],
   "source": [
    "#kerjakan disini\n",
    "import tkinter\n",
    "\n",
    "mainform = tkinter.Tk()\n",
    "\n",
    "mainform.wm_title('Hello')\n",
    "mainform.mainloop()\n"
   ]
  },
  {
   "cell_type": "markdown",
   "metadata": {},
   "source": [
    "### 2. Membuat dan Menempatkan Kontrol di dalam Form\n",
    "Buatlah kode seperti contoh berikut pada cell di bawah\n",
    "\n",
    "![](./images/13_Form.png)"
   ]
  },
  {
   "cell_type": "code",
   "execution_count": 9,
   "metadata": {},
   "outputs": [],
   "source": [
    "#kerjakan disini\n",
    "import tkinter\n",
    "mainform = tkinter.Tk()\n",
    "# membuat objek label\n",
    "lbl= tkinter.Label(mainform)\n",
    "lbl['text']= \"Masukkan nama anda\"\n",
    "lbl.pack()\n",
    "# membuat objek entry\n",
    "txt = tkinter.Entry(mainform)\n",
    "txt['width']= 40\n",
    "txt.pack()\n",
    "# membuat objek button\n",
    "btn = tkinter.Button(mainform)\n",
    "btn['text'] = \"Lanjut\"\n",
    "btn.pack()\n",
    "\n",
    "mainform.wm_title('Hello!')\n",
    "mainform.mainloop()\n"
   ]
  },
  {
   "cell_type": "markdown",
   "metadata": {},
   "source": [
    "### 3. Menangani Event\n",
    "Buatlah kode seperti contoh berikut pada cell di bawah\n",
    "\n",
    "![](./images/13_Buttonclick.png)"
   ]
  },
  {
   "cell_type": "code",
   "execution_count": 8,
   "metadata": {},
   "outputs": [],
   "source": [
    "#kerjakan disini\n",
    "import tkinter\n",
    "import tkinter.messagebox as messagebox\n",
    "\n",
    "mainform = tkinter.Tk()\n",
    "# membuat event\n",
    "def buttonclick () :\n",
    "    messagebox.showinfo(\"Hallo\", \"Hallo %s, apa kabar?\" % (txt.get()))\n",
    "# membuat objek label\n",
    "lbl = tkinter.Label(mainform)\n",
    "lbl['text'] = \"Masukkan nama anda\"\n",
    "lbl.pack()\n",
    "# membuat objek entry\n",
    "txt = tkinter.Entry(mainform)\n",
    "txt['width'] = 40\n",
    "txt.pack()\n",
    "# membuat objek button\n",
    "btn = tkinter.Button(mainform, command=buttonclick)\n",
    "btn['text'] = \"Lanjut\"\n",
    "btn.pack()\n",
    "\n",
    "mainform.wm_title('Hello')\n",
    "mainform.mainloop()\n"
   ]
  },
  {
   "cell_type": "markdown",
   "metadata": {},
   "source": [
    "### 4. Mengatur Tampilan Form dengan Grid Manager\n",
    "Buatlah kode seperti contoh berikut pada cell di bawah\n",
    "\n",
    "![](./images/13_RememberA.png)\n",
    "![](./images/13_RememberB.png)"
   ]
  },
  {
   "cell_type": "code",
   "execution_count": 15,
   "metadata": {},
   "outputs": [],
   "source": [
    "#kerjakan disini\n",
    "import tkinter\n",
    "\n",
    "mainform = tkinter.Tk()\n",
    "# membuat objek label\n",
    "lbl1 = tkinter.Label(mainform)\n",
    "lbl1['text'] = \"Masukkan nama anda\"\n",
    "lbl1.grid(row=0, column=0, sticky=tkinter.E)\n",
    "\n",
    "# membuat objek entry\n",
    "txt1 = tkinter.Entry(mainform)\n",
    "txt1['width'] = 40\n",
    "txt1.grid(row=0,column=1,columnspan=2)\n",
    "\n",
    "txt2 = tkinter.Entry(mainform)\n",
    "txt2['width'] = 40\n",
    "txt2.grid(row=1, column=1,columnspan=2)\n",
    "\n",
    "chk = tkinter.Checkbutton(mainform)\n",
    "chk['text'] = \"Remember me\"\n",
    "chk.grid(row=2, column=0)\n",
    "\n",
    "# membuat objek button\n",
    "btn1 = tkinter.Button(mainform)\n",
    "btn1['text'] = \"Lanjut\"\n",
    "btn1.grid(row=2, column=1, sticky=tkinter.N+tkinter.E+tkinter.S+tkinter.W)\n",
    "mainform.wm_title('Hello')\n",
    "mainform.mainloop()\n"
   ]
  },
  {
   "cell_type": "markdown",
   "metadata": {},
   "source": [
    "### 5. Menggunakan Kelas Frame\n",
    "Buatlah kode seperti contoh berikut pada cell di bawah\n",
    "\n",
    "![](./images/13_Frame.png)"
   ]
  },
  {
   "cell_type": "code",
   "execution_count": 16,
   "metadata": {},
   "outputs": [],
   "source": [
    "#kerjakan disini\n",
    "import tkinter\n",
    "\n",
    "mainform = tkinter.Frame()\n",
    "mainform.grid()\n",
    "\n",
    "btnout = tkinter.Button(mainform, text=\"keluar\", command=mainform.destroy)\n",
    "btnout.grid(sticky=tkinter.E+tkinter.S, padx=90, pady=90)\n",
    "mainform.master.title(\"Demo Frame\")\n",
    "mainform.mainloop()\n"
   ]
  },
  {
   "cell_type": "markdown",
   "metadata": {},
   "source": [
    "### 6. Kontrol Button\n",
    "Buatlah kode seperti contoh berikut pada cell di bawah\n",
    "\n",
    "![](./images/13_ClickHere.png)"
   ]
  },
  {
   "cell_type": "code",
   "execution_count": null,
   "metadata": {},
   "outputs": [],
   "source": [
    "#kerjakan disini\n",
    "import _____\n"
   ]
  },
  {
   "cell_type": "markdown",
   "metadata": {},
   "source": [
    "### 7. Kontrol CheckButton\n",
    "Buatlah kode seperti contoh berikut pada cell di bawah\n",
    "\n",
    "![](./images/13_HobiA.png)\n",
    "![](./images/13_HobiB.png)"
   ]
  },
  {
   "cell_type": "code",
   "execution_count": null,
   "metadata": {},
   "outputs": [],
   "source": [
    "#kerjakan disini\n",
    "import _____\n"
   ]
  },
  {
   "cell_type": "markdown",
   "metadata": {},
   "source": [
    "### 8. Kontrol Entry\n",
    "Buatlah kode seperti contoh berikut pada cell di bawah\n",
    "\n",
    "![](./images/13_EntryA.png)\n",
    "![](./images/13_EntryB.png)"
   ]
  },
  {
   "cell_type": "code",
   "execution_count": null,
   "metadata": {},
   "outputs": [],
   "source": [
    "#kerjakan disini\n",
    "import _____\n"
   ]
  },
  {
   "cell_type": "markdown",
   "metadata": {},
   "source": [
    "***\n",
    "<h1 align=\"center\">Well Done!!!</h1> \n",
    "\n",
    "***"
   ]
  }
 ],
 "metadata": {
  "interpreter": {
   "hash": "19b5815f8595607c15731986d41ff563988a6e13eca18083b8f4aca0bb4eaa48"
  },
  "kernelspec": {
   "display_name": "Python 3.9.7 64-bit",
   "language": "python",
   "name": "python3"
  },
  "language_info": {
   "codemirror_mode": {
    "name": "ipython",
    "version": 3
   },
   "file_extension": ".py",
   "mimetype": "text/x-python",
   "name": "python",
   "nbconvert_exporter": "python",
   "pygments_lexer": "ipython3",
   "version": "3.9.7"
  },
  "orig_nbformat": 4
 },
 "nbformat": 4,
 "nbformat_minor": 2
}
